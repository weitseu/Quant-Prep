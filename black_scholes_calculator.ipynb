{
 "cells": [
  {
   "cell_type": "code",
   "execution_count": 1,
   "id": "728c8138-0f79-47bf-95f4-52238dee5269",
   "metadata": {},
   "outputs": [],
   "source": [
    "import math\n",
    "import numpy as np\n",
    "import pandas as pd\n",
    "from scipy.stats import norm"
   ]
  },
  {
   "cell_type": "code",
   "execution_count": 2,
   "id": "64f69d1d-ff0b-42ba-a742-f25e7c9f16ca",
   "metadata": {},
   "outputs": [],
   "source": [
    "# The pricing formula of Black-Scholes-Merton for European call/put options\n",
    "\"\"\"\n",
    "Inputs: \n",
    "\n",
    "S = spot price of the underlying stock\n",
    "\n",
    "K = strike price\n",
    "\n",
    "T = time to expiration\n",
    "\n",
    "sigma = volatility of the option\n",
    "\n",
    "r = risk-free interest rate\n",
    "\n",
    "\"\"\"\n",
    "\n",
    "def BS_call(S, K, T, sigma, r): \n",
    "    d1 = (np.log(S/K) + (r + ((sigma**2)/2)) * T) / (sigma * math.sqrt(T))\n",
    "    d2 = d1 - sigma * math.sqrt(T)\n",
    "    C = S * norm.cdf(d1) - K * np.exp(-r * T) * norm.cdf(d2)\n",
    "    \n",
    "    return C\n",
    "    \n",
    "def BS_put(S, K, T, sigma, r): \n",
    "    d1 = (np.log(S/K) + (r + ((sigma**2)/2)) * T) / (sigma * math.sqrt(T))\n",
    "    d2 = d1 - sigma * math.sqrt(T)\n",
    "    P = -S * norm.cdf(-d1) + K * np.exp(-r * T) * norm.cdf(-d2)\n",
    "    \n",
    "    return P"
   ]
  },
  {
   "cell_type": "code",
   "execution_count": 3,
   "id": "85bc24c5-f2aa-4bd7-ae57-496a71ee7554",
   "metadata": {},
   "outputs": [
    {
     "name": "stdout",
     "output_type": "stream",
     "text": [
      "IREN Oct24 47 Call: BS value 6.49 vs spot bid/ask 6.20/6.55\n"
     ]
    }
   ],
   "source": [
    "# Example: IREN call option on 24/09/2025\n",
    "\n",
    "S = 47.14\n",
    "K = 47.00\n",
    "T = 0.0833  # time to maturity 1m\n",
    "iv = 1.1768 # implied volatility\n",
    "r = 0.0425\n",
    "\n",
    "print('IREN Oct24 47 Call: BS value', round(BS_call(S,K,T,iv,r),2), 'vs spot bid/ask 6.20/6.55')"
   ]
  },
  {
   "cell_type": "code",
   "execution_count": 4,
   "id": "562e011f-cf8d-427a-a691-4055b842b270",
   "metadata": {},
   "outputs": [
    {
     "name": "stdout",
     "output_type": "stream",
     "text": [
      "NBIS Oct24 120 Put: BS value 15.0 vs spot bid/ask 14.90/15.50\n"
     ]
    }
   ],
   "source": [
    "# Example: NBIS put option on 24/09/2025\n",
    "\n",
    "S = 113.23\n",
    "K = 120.00\n",
    "T = 0.0833  # time to maturity 1m\n",
    "iv = 0.8646 # implied volatility\n",
    "r = 0.0425\n",
    "\n",
    "print('NBIS Oct24 120 Put: BS value', round(BS_put(S,K,T,iv,r),2), 'vs spot bid/ask 14.90/15.50')"
   ]
  },
  {
   "cell_type": "code",
   "execution_count": 5,
   "id": "cbc16c45-ca0f-422a-846d-4f83b1a0f04b",
   "metadata": {},
   "outputs": [
    {
     "name": "stdout",
     "output_type": "stream",
     "text": [
      "ORCL Oct24 310 straddle: BS value 40.1 vs last price 39.15\n"
     ]
    }
   ],
   "source": [
    "# Example: ORCL straddle on 24/09/2025\n",
    "\n",
    "S = 308.46\n",
    "K = 310.00\n",
    "T = 0.0833    # time to maturity 1m\n",
    "iv_c = 0.5678 # implied volatility of the call option\n",
    "iv_p = 0.5490 # implied volatility of the put option\n",
    "r = 0.0425\n",
    "\n",
    "print('ORCL Oct24 310 straddle: BS value', round(BS_put(S,K,T,iv_c,r)+BS_put(S,K,T,iv_p,r),2), 'vs last price 39.15')"
   ]
  },
  {
   "cell_type": "code",
   "execution_count": 6,
   "id": "f4ebdf16-2f9e-4be4-ad29-030cab544338",
   "metadata": {},
   "outputs": [],
   "source": [
    "# Calculation of implied volatility using the Black-Scholes model\n",
    "\n",
    "def IV(S, K, T, r, OP, option_type):\n",
    "    \"\"\"\n",
    "    Inputs: \n",
    "    \n",
    "    OP = Option price from the market\n",
    "    option_type = 'call' or 'put'\n",
    "    \n",
    "    \"\"\"\n",
    "    e = 0.0001       # allowed error\n",
    "    max_trial = 100  # max number of trials\n",
    "\n",
    "    def BS(S, K, T, sigma, r, option_type):\n",
    "        d1 = (np.log(S/K) + (r + ((sigma**2)/2)) * T) / (sigma * math.sqrt(T))\n",
    "        d2 = d1 - sigma * math.sqrt(T)\n",
    "\n",
    "        if option_type == 'call':\n",
    "            option_price = S * norm.cdf(d1) - K * np.exp(-r * T) * norm.cdf(d2)\n",
    "        else:\n",
    "            option_price = -S * norm.cdf(-d1) + K * np.exp(-r * T) * norm.cdf(-d2)\n",
    "\n",
    "        return option_price\n",
    "\n",
    "    sigma_est = 0.5  # initial guess\n",
    "    \n",
    "    op_est = BS(S, K, T, sigma_est, r, option_type)\n",
    "    diff = op_est - OP  # difference between the estimated price and the observed price\n",
    "    counter = 0         # iteration counter\n",
    "\n",
    "    while abs(diff) > e and counter < max_trial:\n",
    "        d_1 = (np.log(S / K) + (r + 0.5 * sigma_est ** 2) * T) / (sigma_est * np.sqrt(T))\n",
    "        vega = S * math.sqrt(T) * norm.pdf(d_1)\n",
    "        op_est = BS(S, K, T, sigma_est, r, option_type)  \n",
    "        diff = op_est - OP  \n",
    "\n",
    "        if abs(diff) < e:\n",
    "            break\n",
    "\n",
    "        sigma_est = sigma_est - (diff / vega)  # correcting implied volatility\n",
    "        counter += 1  \n",
    "\n",
    "    return sigma_est"
   ]
  },
  {
   "cell_type": "code",
   "execution_count": null,
   "id": "834e8bda-9256-49f9-91f3-3830a0acb9e8",
   "metadata": {},
   "outputs": [],
   "source": []
  }
 ],
 "metadata": {
  "kernelspec": {
   "display_name": "Python 3 (ipykernel)",
   "language": "python",
   "name": "python3"
  },
  "language_info": {
   "codemirror_mode": {
    "name": "ipython",
    "version": 3
   },
   "file_extension": ".py",
   "mimetype": "text/x-python",
   "name": "python",
   "nbconvert_exporter": "python",
   "pygments_lexer": "ipython3",
   "version": "3.12.7"
  }
 },
 "nbformat": 4,
 "nbformat_minor": 5
}
