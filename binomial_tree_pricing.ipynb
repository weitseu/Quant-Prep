{
 "cells": [
  {
   "cell_type": "code",
   "execution_count": 1,
   "id": "29497553-aa55-4f05-93b0-a1e049e776fd",
   "metadata": {},
   "outputs": [],
   "source": [
    "import numpy as np\n",
    "import pandas as pd\n",
    "import math"
   ]
  },
  {
   "cell_type": "code",
   "execution_count": 2,
   "id": "9c707415-f454-4b34-ae8b-8c79d3841cc8",
   "metadata": {},
   "outputs": [],
   "source": [
    "# Parameters\n",
    "\n",
    "S_0 = 50           # initial stock price\n",
    "K = 50             # strike price\n",
    "T = 0.4167         # time interval in years\n",
    "N = 30             # number of time steps\n",
    "sigma = 0.4        # volatility\n",
    "r = 0.1            # risk-free interest rate\n",
    "\n",
    "Delta_t = T/N\n",
    "u = np.exp(sigma * math.sqrt(Delta_t))  # upward movement\n",
    "d = 1 / u                               # downward movement\n",
    "p = (np.exp(r * Delta_t) - d) / (u - d) # probability of up move"
   ]
  },
  {
   "cell_type": "code",
   "execution_count": 3,
   "id": "0628f14b-6474-46a1-8fcd-9a22be41534b",
   "metadata": {},
   "outputs": [],
   "source": [
    "# Binomial tree of stock prices\n",
    "\n",
    "def stock_tree(S_0, T, sigma, N):\n",
    "    gross_up_mov = np.resize(np.arange(N+1), (N+1,N+1))\n",
    "    gross_down_mov = gross_up_mov.transpose() \n",
    "    S = S_0 * np.exp(sigma * math.sqrt(Delta_t) * (gross_up_mov - gross_down_mov))  # only the left upper triangluar part is used actually\n",
    "    \n",
    "    return S \n"
   ]
  },
  {
   "cell_type": "code",
   "execution_count": 4,
   "id": "c28e29d7-2628-44b8-8433-5cdbe6c65417",
   "metadata": {},
   "outputs": [
    {
     "data": {
      "text/plain": [
       "6.074523567932132"
      ]
     },
     "execution_count": 4,
     "metadata": {},
     "output_type": "execute_result"
    }
   ],
   "source": [
    "# Binomial tree of American call option prices\n",
    "\n",
    "def BT_call_price(S_0, K, T, sigma, r, N):\n",
    "    option_tree = np.zeros((N+1, N+1))\n",
    "    for i in range(N+1):\n",
    "        option_tree[i,N-i] = np.maximum(- K + stock_tree(S_0, T, sigma, N)[i,N-i], 0)\n",
    "    for j in range(N-1, -1, -1):\n",
    "        for i in range(N-j-1, -1, -1):\n",
    "            risk_neu_val = np.exp(-r * Delta_t) * (p * option_tree[i, j+1] + (1-p) * option_tree[i+1, j])\n",
    "            option_tree[i,j] = max(risk_neu_val, - K + stock_tree(S_0, T, sigma, N)[i,j]) # possible early exercise\n",
    "    \n",
    "    return option_tree[0,0]\n",
    "            \n",
    "BT_call_price(S_0, K, T, sigma, r, N) "
   ]
  },
  {
   "cell_type": "code",
   "execution_count": 5,
   "id": "7e2ee0e4-4395-4ad6-bb92-dd2588a0a4bd",
   "metadata": {},
   "outputs": [
    {
     "data": {
      "text/plain": [
       "4.263565258847102"
      ]
     },
     "execution_count": 5,
     "metadata": {},
     "output_type": "execute_result"
    }
   ],
   "source": [
    "# Binomial tree of American put option prices\n",
    "\n",
    "def BT_put_price(S_0, K, T, sigma, r, N):\n",
    "    option_tree = np.zeros((N+1, N+1))\n",
    "    for i in range(N+1):\n",
    "        option_tree[i,N-i] = np.maximum(K - stock_tree(S_0, T, sigma, N)[i,N-i], 0)\n",
    "    for j in range(N-1, -1, -1):\n",
    "        for i in range(N-j-1, -1, -1):\n",
    "            risk_neu_val = np.exp(-r * Delta_t) * (p * option_tree[i, j+1] + (1-p) * option_tree[i+1, j])\n",
    "            option_tree[i,j] = max(risk_neu_val, K - stock_tree(S_0, T, sigma, N)[i,j]) # possible early exercise\n",
    "    \n",
    "    return option_tree[0,0]\n",
    "            \n",
    "BT_put_price(S_0, K, T, sigma, r, N) "
   ]
  },
  {
   "cell_type": "code",
   "execution_count": null,
   "id": "2faf74a0-f7a0-42b6-9b18-0f5817e15d3f",
   "metadata": {},
   "outputs": [],
   "source": []
  }
 ],
 "metadata": {
  "kernelspec": {
   "display_name": "Python 3 (ipykernel)",
   "language": "python",
   "name": "python3"
  },
  "language_info": {
   "codemirror_mode": {
    "name": "ipython",
    "version": 3
   },
   "file_extension": ".py",
   "mimetype": "text/x-python",
   "name": "python",
   "nbconvert_exporter": "python",
   "pygments_lexer": "ipython3",
   "version": "3.12.7"
  }
 },
 "nbformat": 4,
 "nbformat_minor": 5
}
